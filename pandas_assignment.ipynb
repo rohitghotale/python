{
 "cells": [
  {
   "cell_type": "code",
   "execution_count": 1,
   "metadata": {},
   "outputs": [
    {
     "data": {
      "text/plain": [
       "'R'"
      ]
     },
     "execution_count": 1,
     "metadata": {},
     "output_type": "execute_result"
    }
   ],
   "source": [
    "name= 'Rohit Ghotale'\n",
    "name[0::-1]"
   ]
  },
  {
   "cell_type": "code",
   "execution_count": 2,
   "metadata": {},
   "outputs": [
    {
     "data": {
      "text/plain": [
       "''"
      ]
     },
     "execution_count": 2,
     "metadata": {},
     "output_type": "execute_result"
    }
   ],
   "source": [
    "name[0:5:-1]"
   ]
  },
  {
   "cell_type": "code",
   "execution_count": 9,
   "metadata": {},
   "outputs": [
    {
     "name": "stdout",
     "output_type": "stream",
     "text": [
      "   FlightNumber  RecentDelays              Airline      From        To\n",
      "0       10075.0      [23, 47]               KLM(!)    London    London\n",
      "1       10075.0            []    <Air France> (12)    Madrid    Madrid\n",
      "2       10075.0  [24, 43, 87]  (British Airways. )    London    London\n",
      "3       10075.0          [13]       12. Air France  Budapest  Budapest\n",
      "4       10075.0      [67, 32]          \"Swiss Air\"  Brussels  Brussels\n",
      "   Delay_1  Delay_2  Delay_3\n",
      "0     23.0     47.0      NaN\n",
      "1      NaN      NaN      NaN\n",
      "2     24.0     43.0     87.0\n",
      "3     13.0      NaN      NaN\n",
      "4     67.0     32.0      NaN\n"
     ]
    },
    {
     "data": {
      "text/html": [
       "<div>\n",
       "<style scoped>\n",
       "    .dataframe tbody tr th:only-of-type {\n",
       "        vertical-align: middle;\n",
       "    }\n",
       "\n",
       "    .dataframe tbody tr th {\n",
       "        vertical-align: top;\n",
       "    }\n",
       "\n",
       "    .dataframe thead th {\n",
       "        text-align: right;\n",
       "    }\n",
       "</style>\n",
       "<table border=\"1\" class=\"dataframe\">\n",
       "  <thead>\n",
       "    <tr style=\"text-align: right;\">\n",
       "      <th></th>\n",
       "      <th>FlightNumber</th>\n",
       "      <th>RecentDelays</th>\n",
       "      <th>Airline</th>\n",
       "      <th>From</th>\n",
       "      <th>To</th>\n",
       "      <th>Delay_1</th>\n",
       "      <th>Delay_2</th>\n",
       "      <th>Delay_3</th>\n",
       "    </tr>\n",
       "  </thead>\n",
       "  <tbody>\n",
       "    <tr>\n",
       "      <th>0</th>\n",
       "      <td>10075.0</td>\n",
       "      <td>[23, 47]</td>\n",
       "      <td>KLM(!)</td>\n",
       "      <td>London</td>\n",
       "      <td>London</td>\n",
       "      <td>23.0</td>\n",
       "      <td>47.0</td>\n",
       "      <td>NaN</td>\n",
       "    </tr>\n",
       "    <tr>\n",
       "      <th>1</th>\n",
       "      <td>10075.0</td>\n",
       "      <td>[]</td>\n",
       "      <td>&lt;Air France&gt; (12)</td>\n",
       "      <td>Madrid</td>\n",
       "      <td>Madrid</td>\n",
       "      <td>NaN</td>\n",
       "      <td>NaN</td>\n",
       "      <td>NaN</td>\n",
       "    </tr>\n",
       "    <tr>\n",
       "      <th>2</th>\n",
       "      <td>10075.0</td>\n",
       "      <td>[24, 43, 87]</td>\n",
       "      <td>(British Airways. )</td>\n",
       "      <td>London</td>\n",
       "      <td>London</td>\n",
       "      <td>24.0</td>\n",
       "      <td>43.0</td>\n",
       "      <td>87.0</td>\n",
       "    </tr>\n",
       "    <tr>\n",
       "      <th>3</th>\n",
       "      <td>10075.0</td>\n",
       "      <td>[13]</td>\n",
       "      <td>12. Air France</td>\n",
       "      <td>Budapest</td>\n",
       "      <td>Budapest</td>\n",
       "      <td>13.0</td>\n",
       "      <td>NaN</td>\n",
       "      <td>NaN</td>\n",
       "    </tr>\n",
       "    <tr>\n",
       "      <th>4</th>\n",
       "      <td>10075.0</td>\n",
       "      <td>[67, 32]</td>\n",
       "      <td>\"Swiss Air\"</td>\n",
       "      <td>Brussels</td>\n",
       "      <td>Brussels</td>\n",
       "      <td>67.0</td>\n",
       "      <td>32.0</td>\n",
       "      <td>NaN</td>\n",
       "    </tr>\n",
       "  </tbody>\n",
       "</table>\n",
       "</div>"
      ],
      "text/plain": [
       "   FlightNumber  RecentDelays              Airline      From        To  \\\n",
       "0       10075.0      [23, 47]               KLM(!)    London    London   \n",
       "1       10075.0            []    <Air France> (12)    Madrid    Madrid   \n",
       "2       10075.0  [24, 43, 87]  (British Airways. )    London    London   \n",
       "3       10075.0          [13]       12. Air France  Budapest  Budapest   \n",
       "4       10075.0      [67, 32]          \"Swiss Air\"  Brussels  Brussels   \n",
       "\n",
       "   Delay_1  Delay_2  Delay_3  \n",
       "0     23.0     47.0      NaN  \n",
       "1      NaN      NaN      NaN  \n",
       "2     24.0     43.0     87.0  \n",
       "3     13.0      NaN      NaN  \n",
       "4     67.0     32.0      NaN  "
      ]
     },
     "execution_count": 9,
     "metadata": {},
     "output_type": "execute_result"
    }
   ],
   "source": [
    "# import pandas to use pandas DataFrame\n",
    "import pandas as pd\n",
    "import numpy as np\n",
    "  \n",
    "# data in the form of list of tuples\n",
    "df = pd.DataFrame({'From_To': ['LoNDon_paris', 'MAdrid_miLAN',\n",
    "'londON_StockhOlm',\n",
    "\n",
    "'Budapest_PaRis', 'Brussels_londOn'],\n",
    "'FlightNumber': [10045, np.nan, 10065, np.nan, 10085],\n",
    "'RecentDelays': [[23, 47], [], [24, 43, 87], [13], [67, 32]],\n",
    "'Airline': ['KLM(!)', '<Air France> (12)', '(British Airways. )',\n",
    "'12. Air France', '\"Swiss Air\"']})\n",
    "df[['From','To']]=df.From_To.str.split(\"_\",expand=True,)\n",
    "df['FlightNumber']=df['FlightNumber']+10\n",
    "df['FlightNumber']=df['FlightNumber'].mean()\n",
    "df['From']=df.From.str.capitalize()\n",
    "df['To']=df.From.str.capitalize()\n",
    "df['From']=df.From.str.capitalize()\n",
    "df.drop(['From_To'], axis = 1,inplace=True)\n",
    "df_delays=pd.DataFrame(df['RecentDelays'].tolist(),columns=['Delay_1','Delay_2','Delay_3'])\n",
    "print(df)\n",
    "print(df_delays)\n",
    "frames=[df,df_delays]\n",
    "df=pd.concat(frames,axis=1)\n",
    "df"
   ]
  },
  {
   "cell_type": "code",
   "execution_count": null,
   "metadata": {},
   "outputs": [],
   "source": []
  }
 ],
 "metadata": {
  "kernelspec": {
   "display_name": "Python 3",
   "language": "python",
   "name": "python3"
  },
  "language_info": {
   "codemirror_mode": {
    "name": "ipython",
    "version": 3
   },
   "file_extension": ".py",
   "mimetype": "text/x-python",
   "name": "python",
   "nbconvert_exporter": "python",
   "pygments_lexer": "ipython3",
   "version": "3.7.6"
  }
 },
 "nbformat": 4,
 "nbformat_minor": 4
}
